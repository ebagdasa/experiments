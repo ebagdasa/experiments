{
 "cells": [
  {
   "cell_type": "code",
   "execution_count": 1,
   "metadata": {
    "collapsed": true
   },
   "outputs": [],
   "source": [
    "import yaml\n",
    "import os\n",
    "import json\n",
    "import gzip\n",
    "import zlib\n",
    "import datetime\n",
    "from dateutil import parser\n",
    "import multiprocessing\n",
    "from subprocess import run, PIPE\n",
    "import os\n",
    "from pymongo import MongoClient\n",
    "client = MongoClient()"
   ]
  },
  {
   "cell_type": "code",
   "execution_count": 3,
   "metadata": {
    "collapsed": true
   },
   "outputs": [],
   "source": [
    "import tensorflow\n",
    "import numpy as np"
   ]
  },
  {
   "cell_type": "code",
   "execution_count": 4,
   "metadata": {
    "collapsed": true
   },
   "outputs": [],
   "source": [
    "def data_iter(cursor, batch_size=10000):\n",
    "    mylist = list()\n",
    "    it = 0\n",
    "    for item in cursor:\n",
    "        it +=1\n",
    "        mylist.append(item)\n",
    "        if it%batch_size==0:\n",
    "            yield mylist\n",
    "            it=0\n",
    "            mylist= list()"
   ]
  },
  {
   "cell_type": "code",
   "execution_count": 5,
   "metadata": {
    "collapsed": true
   },
   "outputs": [],
   "source": [
    "db = client.interaction\n",
    "cursor = db.training_set.find()\n",
    "batch_size=10000\n",
    "cursor.batch_size(batch_size=batch_size)\n",
    "my_iter = data_iter(cursor, batch_size)"
   ]
  },
  {
   "cell_type": "code",
   "execution_count": null,
   "metadata": {
    "collapsed": true
   },
   "outputs": [],
   "source": []
  }
 ],
 "metadata": {
  "kernelspec": {
   "display_name": "Python 3",
   "language": "python",
   "name": "python3"
  },
  "language_info": {
   "codemirror_mode": {
    "name": "ipython",
    "version": 3
   },
   "file_extension": ".py",
   "mimetype": "text/x-python",
   "name": "python",
   "nbconvert_exporter": "python",
   "pygments_lexer": "ipython3",
   "version": "3.5.2"
  }
 },
 "nbformat": 4,
 "nbformat_minor": 2
}
