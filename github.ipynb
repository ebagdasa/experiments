{
 "cells": [
  {
   "cell_type": "code",
   "execution_count": 165,
   "metadata": {
    "collapsed": true
   },
   "outputs": [],
   "source": [
    "import yaml\n",
    "import os\n",
    "import json\n",
    "import gzip\n",
    "import zlib\n",
    "import datetime\n",
    "from dateutil import parser\n",
    "import multiprocessing\n",
    "from subprocess import run, PIPE\n",
    "import os\n",
    "from pymongo import MongoClient\n",
    "client = MongoClient()"
   ]
  },
  {
   "cell_type": "code",
   "execution_count": 188,
   "metadata": {},
   "outputs": [
    {
     "name": "stdout",
     "output_type": "stream",
     "text": [
      "done reading val_set.json.gzip\n"
     ]
    }
   ],
   "source": [
    "for file in ['val_set.json.gzip']:\n",
    "    with gzip.open('{0}'.format('./{0}'.format(file)), 'rb') as f:\n",
    "        lines = f.readlines()\n",
    "        data = list()\n",
    "        for line in lines:\n",
    "            parsed = json.loads(line.decode())\n",
    "            parsed['created_at'] = parser.parse(parsed['created_at'])\n",
    "            data.append(parsed)\n",
    "        print('done reading {0}'.format(file))\n",
    "        db.val_set.insert_many(data)"
   ]
  },
  {
   "cell_type": "code",
   "execution_count": 199,
   "metadata": {
    "collapsed": true
   },
   "outputs": [],
   "source": [
    "db = client.interaction\n",
    "cursor = db.training_set.find()"
   ]
  },
  {
   "cell_type": "code",
   "execution_count": 202,
   "metadata": {},
   "outputs": [
    {
     "data": {
      "text/plain": [
       "<pymongo.cursor.Cursor at 0x7f4c34b50da0>"
      ]
     },
     "execution_count": 202,
     "metadata": {},
     "output_type": "execute_result"
    }
   ],
   "source": [
    "cursor.batch_size(10000)"
   ]
  },
  {
   "cell_type": "code",
   "execution_count": 205,
   "metadata": {},
   "outputs": [],
   "source": [
    "def data_iter(cursor, batch_size=10000):\n",
    "    mylist = list()\n",
    "    it = 0\n",
    "    for item in cursor:\n",
    "        it +=1\n",
    "        mylist.append(item)\n",
    "        if it%batch_size==0:\n",
    "            yield mylist\n",
    "            it=0\n",
    "            mylist= list()"
   ]
  },
  {
   "cell_type": "code",
   "execution_count": 206,
   "metadata": {},
   "outputs": [],
   "source": [
    "my_iter =data_iter(cursor)"
   ]
  },
  {
   "cell_type": "code",
   "execution_count": 207,
   "metadata": {
    "collapsed": true
   },
   "outputs": [],
   "source": [
    "q = next(my_iter)"
   ]
  },
  {
   "cell_type": "code",
   "execution_count": 208,
   "metadata": {},
   "outputs": [
    {
     "data": {
      "text/plain": [
       "10000"
      ]
     },
     "execution_count": 208,
     "metadata": {},
     "output_type": "execute_result"
    }
   ],
   "source": [
    "len(q)"
   ]
  },
  {
   "cell_type": "code",
   "execution_count": 209,
   "metadata": {},
   "outputs": [
    {
     "data": {
      "text/plain": [
       "{'_id': ObjectId('594447585b2d8bc69d9663b0'),\n",
       " 'actor_id': '10603313',\n",
       " 'created_at': datetime.datetime(2015, 2, 12, 17, 28, 36),\n",
       " 'id': '2577517388',\n",
       " 'repo_id': '29489307',\n",
       " 'type': 'PublicEvent'}"
      ]
     },
     "execution_count": 209,
     "metadata": {},
     "output_type": "execute_result"
    }
   ],
   "source": [
    "q[0]"
   ]
  },
  {
   "cell_type": "code",
   "execution_count": null,
   "metadata": {
    "collapsed": true
   },
   "outputs": [],
   "source": []
  }
 ],
 "metadata": {
  "kernelspec": {
   "display_name": "Python 3",
   "language": "python",
   "name": "python3"
  },
  "language_info": {
   "codemirror_mode": {
    "name": "ipython",
    "version": 3
   },
   "file_extension": ".py",
   "mimetype": "text/x-python",
   "name": "python",
   "nbconvert_exporter": "python",
   "pygments_lexer": "ipython3",
   "version": "3.5.2"
  }
 },
 "nbformat": 4,
 "nbformat_minor": 1
}
