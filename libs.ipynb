{
 "cells": [
  {
   "cell_type": "code",
   "execution_count": 5,
   "metadata": {
    "collapsed": true
   },
   "outputs": [],
   "source": [
    "import yaml\n",
    "import os\n",
    "import json\n",
    "import gzip\n",
    "import zlib\n",
    "import datetime\n",
    "from dateutil import parser\n",
    "import multiprocessing\n",
    "from subprocess import run, PIPE\n",
    "import os\n",
    "from pymongo import MongoClient\n",
    "client = MongoClient()\n",
    "db = client.libs"
   ]
  },
  {
   "cell_type": "code",
   "execution_count": 9,
   "metadata": {},
   "outputs": [
    {
     "data": {
      "text/plain": [
       "['Libraries.io-open-data-1.0.0.zip',\n",
       " 'Readme.md',\n",
       " 'repository_dependencies-1.0.0-2017-06-15.csv',\n",
       " 'tags-1.0.0-2017-06-15.csv',\n",
       " 'repositories-1.0.0-2017-06-15.csv',\n",
       " 'versions-1.0.0-2017-06-15.csv',\n",
       " 'basilene.py',\n",
       " 'projects-1.0.0-2017-06-15.csv',\n",
       " 'projects_with_repository_fields-1.0.0-2017-06-15.csv',\n",
       " 'dependencies-1.0.0-2017-06-15.csv',\n",
       " 'License.txt']"
      ]
     },
     "execution_count": 9,
     "metadata": {},
     "output_type": "execute_result"
    }
   ],
   "source": [
    "os.listdir('./libs')"
   ]
  },
  {
   "cell_type": "code",
   "execution_count": 23,
   "metadata": {
    "collapsed": true
   },
   "outputs": [],
   "source": [
    "f= open('./libs/dependencies-1.0.0-2017-06-15.csv')\n",
    "reader = csv.reader(f, delimiter=',')    "
   ]
  },
  {
   "cell_type": "code",
   "execution_count": 42,
   "metadata": {},
   "outputs": [
    {
     "data": {
      "text/plain": [
       "['8765',\n",
       " 'Dub',\n",
       " 'anchovy',\n",
       " '203',\n",
       " '0.5.0',\n",
       " '24',\n",
       " 'anchovy:graphics',\n",
       " 'Dub',\n",
       " 'runtime',\n",
       " '',\n",
       " '~master',\n",
       " '']"
      ]
     },
     "execution_count": 42,
     "metadata": {},
     "output_type": "execute_result"
    }
   ],
   "source": [
    "next(reader)"
   ]
  },
  {
   "cell_type": "code",
   "execution_count": 18,
   "metadata": {},
   "outputs": [
    {
     "data": {
      "text/plain": [
       "['ID',\n",
       " 'Platform',\n",
       " 'Project Name',\n",
       " 'Project ID',\n",
       " 'Number',\n",
       " 'Published Timestamp',\n",
       " 'Created Timestamp',\n",
       " 'Updated Timestamp']"
      ]
     },
     "execution_count": 18,
     "metadata": {},
     "output_type": "execute_result"
    }
   ],
   "source": [
    "versions_heads"
   ]
  },
  {
   "cell_type": "code",
   "execution_count": 22,
   "metadata": {},
   "outputs": [
    {
     "name": "stdout",
     "output_type": "stream",
     "text": [
      "repository_dependencies-1.0.0-2017-06-15.csv: ['ID', 'Host Type', 'Repository Name with Owner', 'Repository ID', 'Manifest Platform', 'Manifest Filepath', 'Git branch', 'Manifest kind', 'Optional', 'Dependency Project Name', 'Dependency Requirements', 'Dependency Kind', 'Dependency Project ID'] \n",
      " ['48593218', 'GitHub', 'brianmhunt/knockout-modal', '1', 'Bower', 'bower.json', '', 'manifest', '', 'knockout', '~3.2.0', 'development', '15957'] \n",
      "\n",
      "\n",
      "tags-1.0.0-2017-06-15.csv: ['ID', 'Host Type', 'Repository Name with Owner', 'Repository ID', 'Tag Name', 'Tag git sha', 'Tag Published Timestamp', 'Tag Created Timestamp', 'Tag Updated Timestamp'] \n",
      " ['1', 'GitHub', 'brianmhunt/knockout-modal', '1', '0.7.0', 'b6bf1152b1e6e757a09812c30b713dec21a3a752', '2014-09-16 19:08:29 UTC', '2015-03-06 22:59:14 UTC', '2015-03-06 22:59:14 UTC'] \n",
      "\n",
      "\n",
      "repositories-1.0.0-2017-06-15.csv: ['ID', 'Host Type', 'Name with Owner', 'Description', 'Fork', 'Created Timestamp', 'Updated Timestamp', 'Last pushed Timestamp', 'Homepage URL', 'Size', 'Stars Count', 'Language', 'Issues enabled', 'Wiki enabled', 'Pages enabled', 'Forks Count', 'Mirror URL', 'Open Issues Count', 'Default branch', 'Watchers Count', 'UUID', 'Fork Source Name with Owner', 'License', 'Contributors Count', 'Readme filename', 'Changelog filename', 'Contributing guidelines filename', 'License filename', 'Code of Conduct filename', 'Security Threat Model filename', 'Security Audit filename', 'Status', 'Last Synced Timestamp', 'SourceRank', 'Display Name', 'SCM type', 'Pull requests enabled', 'Logo URL', 'Keywords'] \n",
      " ['1', 'GitHub', 'brianmhunt/knockout-modal', 'Opinionated modals with Knockout.js', 'false', '2014-09-15 01:21:34 UTC', '2016-12-28 16:33:17 UTC', '2016-12-18 18:31:32 UTC', 'http://brianmhunt.github.io/knockout-modal/', '512', '7', 'JavaScript', 'true', 'true', 'true', '0', '', '1', 'master', '2', '24038237', '', 'MIT', '1', 'README.md', '', '', 'LICENSE', '', '', '', '', '2016-05-27 15:42:48 UTC', '5', 'GitHub', '', '', '', '', ''] \n",
      "\n",
      "\n",
      "versions-1.0.0-2017-06-15.csv: ['ID', 'Platform', 'Project Name', 'Project ID', 'Number', 'Published Timestamp', 'Created Timestamp', 'Updated Timestamp'] \n",
      " ['2', 'Dub', 'a4g', '197', '0.1.0', '2014-12-06 21:23:52 UTC', '2015-01-11 23:58:26 UTC', '2015-02-17 08:56:19 UTC'] \n",
      "\n",
      "\n",
      "projects-1.0.0-2017-06-15.csv: ['ID', 'Platform', 'Name', 'Created Timestamp', 'Updated Timestamp', 'Description', 'Keywords', 'Homepage URL', 'Licenses', 'Repository URL', 'Versions Count', 'SourceRank', 'Latest Release Publish Timestamp', 'Latest Release Number', 'Package Manager ID', 'Dependent Projects Count', 'Language', 'Status', 'Last synced Timestamp', 'Dependent Repositories Count', 'Repository ID'] \n",
      " ['1', 'Alcatraz', '21st digital Templates', '2015-01-11 23:56:18 UTC', '2017-06-14 01:03:14 UTC', 'A starting point for stripped down, structured and nib-less iOS applications including support for CocoaPods and Uncrustify.', '', 'https://github.com/21stdigital/Xcode-Templates', '', 'https://github.com/21stdigital/Xcode-Templates', '0', '2', '2017-06-14 01:03:05 UTC', '', '', '0', 'Objective-C', '', '2017-06-14 01:03:10 UTC', '0', '3945'] \n",
      "\n",
      "\n",
      "projects_with_repository_fields-1.0.0-2017-06-15.csv: ['ID', 'Platform', 'Name', 'Created Timestamp', 'Updated Timestamp', 'Description', 'Keywords', 'Homepage URL', 'Licenses', 'Repository URL', 'Versions Count', 'SourceRank', 'Latest Release Publish Timestamp', 'Latest Release Number', 'Package Manager ID', 'Dependent Projects Count', 'Language', 'Status', 'Last synced Timestamp', 'Dependent Repositories Count', 'Repository ID', 'Repository Host Type', 'Repository Name with Owner', 'Repository Description', 'Repository Fork?', 'Repository Created Timestamp', 'Repository Updated Timestamp', 'Repository Last pushed Timestamp', 'Repository Homepage URL', 'Repository Size', 'Repository Stars Count', 'Repository Language', 'Repository Issues enabled?', 'Repository Wiki enabled?', 'Repository Pages enabled?', 'Repository Forks Count', 'Repository Mirror URL', 'Repository Open Issues Count', 'Repository Default branch', 'Repository Watchers Count', 'Repository UUID', 'Repository Fork Source Name with Owner', 'Repository License', 'Repository Contributors Count', 'Repository Readme filename', 'Repository Changelog filename', 'Repository Contributing guidelines filename', 'Repository License filename', 'Repository Code of Conduct filename', 'Repository Security Threat Model filename', 'Repository Security Audit filename', 'Repository Status', 'Repository Last Synced Timestamp', 'Repository SourceRank', 'Repository Display Name', 'Repository SCM type', 'Repository Pull requests enabled?', 'Repository Logo URL', 'Repository Keywords'] \n",
      " ['1', 'Alcatraz', '21st digital Templates', '2015-01-11 23:56:18 UTC', '2017-06-14 01:03:14 UTC', 'A starting point for stripped down, structured and nib-less iOS applications including support for CocoaPods and Uncrustify.', '', 'https://github.com/21stdigital/Xcode-Templates', '', 'https://github.com/21stdigital/Xcode-Templates', '0', '2', '2017-06-14 01:03:05 UTC', '', '', '0', 'Objective-C', '', '2017-06-14 01:03:10 UTC', '0', '3945', 'GitHub', '21stdigital/Xcode-Templates', 'Stripped down, structured, nib-less project & file templates', 'false', '2014-07-16 19:33:01 UTC', '2017-04-20 00:24:07 UTC', '2014-07-20 22:11:52 UTC', '', '172', '14', 'Objective-C', 'true', 'false', 'false', '1', '', '0', 'master', '4', '21914226', '', '', '1', 'README.md', '', '', '', '', '', '', '', '2017-04-20 00:24:04 UTC', '3', 'GitHub', '', '', '', '', ''] \n",
      "\n",
      "\n",
      "dependencies-1.0.0-2017-06-15.csv: ['ID', 'Platform', 'Project Name', 'Project ID', 'Version Number', 'Version ID', 'Dependency Name', 'Dependency Platform', 'Dependency Kind', 'Optional Dependency', 'Dependency Requirements', 'Dependency Project ID'] \n",
      " ['8737', 'Dub', 'a4g', '197', '0.1.0', '2', 'a4g:client', 'Dub', 'runtime', '', '*', ''] \n",
      "\n",
      "\n"
     ]
    }
   ],
   "source": [
    "for file in os.listdir('./libs'):\n",
    "    if '.csv' in file:\n",
    "        with open('./libs/{0}'.format(file)) as g:\n",
    "            reader = csv.reader(g, delimiter=',')    \n",
    "            heads = next(reader)\n",
    "            example = next(reader)\n",
    "            print('{0}: {1} \\n {2} \\n\\n'.format(file, heads, example))"
   ]
  },
  {
   "cell_type": "markdown",
   "metadata": {},
   "source": [
    "In this release you will find data about software distributed and/or crafted publicly on the Internet. You will find information about its development, its distribution and its relationship with other software included as a dependency. You will not find any information about the individuals who create and maintain these projects.\n",
    "\n",
    "Further information and documentation on this data set can be found at https://libraries.io/data\n",
    "\n",
    "For enquiries please contact data@libraries.io\n",
    "\n",
    "This dataset contains seven files:\n",
    "\n",
    "## Projects\n",
    "A project is a piece of software available on any one of the 33 package managers supported by Libraries.io.\n",
    "\n",
    "## Versions\n",
    "A Libraries.io version is an immutable published version of a Project from a package manager. Not all package managers have a concept of publishing versions, often relying directly on tags/branches from a revision control tool.\n",
    "\n",
    "## Tags\n",
    "A tag is equivalent to a tag in a revision control system. Tags are sometimes used instead of Versions where a package manager does not use the concept of versions. Tags are often semantic version numbers.\n",
    "\n",
    "## Dependencies\n",
    "Dependencies describe the relationship between a project and the software it builds upon. Dependencies belong to Version. Each Version can have different sets of dependencies. Dependencies point at a specific Version or range of versions of other projects.\n",
    "\n",
    "## Repositories\n",
    "A Libraries.io repository represents a publicly accessible source code repository from either github.com, gitlab.com or bitbucket.org. Repositories are distinct from Projects, they are not distributed via a package manager and typically an application for end users rather than component to build upon.\n",
    "\n",
    "## Repository dependencies\n",
    "A repository dependency is a dependency upon a Version from a package manager has been specified in a manifest file, either as a manually added dependency committed by a user or listed as a generated dependency listed in a lockfile that has been automatically generated by a package manager and committed.\n",
    "\n",
    "## Projects with related Repository fields\n",
    "This is an alternative projects export that denormalizes a projects related source code repository inline to reduce the need to join between two data sets.\n",
    "\n",
    "# License\n",
    "This dataset is released under the Creative Commons Attribution-ShareAlike 4.0 International License.\n",
    "\n",
    "This license provides the user with the freedom to use, adapt and redistribute this data. In return the user must publish any derivative work under a similarly open license, attributing Libraries.io as a data source. The full text of the license is included in the data.\n",
    "\n",
    "# Access, Attribution and Citation\n",
    "The dataset is available to download from Zenodo at https://zenodo.org/record/808273.\n",
    "\n",
    "Please attribute Libraries.io as a data source by including the words ‘Includes data from Libraries.io’ and reference the Digital Object identifier: 10.5281/Zenodo.808273."
   ]
  },
  {
   "cell_type": "code",
   "execution_count": 3,
   "metadata": {},
   "outputs": [
    {
     "name": "stdout",
     "output_type": "stream",
     "text": [
      "51239987\n"
     ]
    }
   ],
   "source": [
    "with open('./libs/{0}'.format('dependencies-1.0.0-2017-06-15.csv')) as g:\n",
    "        reader = csv.reader(g, delimiter=',')    \n",
    "        headers = next(reader)\n",
    "        print(headers)\n",
    "        for entry in reader:\n",
    "            e_dict = dict()\n",
    "            for i, field in enumerate(entry):\n",
    "                e_dict[header[i]] = field\n",
    "            print(e_dict)\n",
    "            break\n",
    "#             db.dependencies.insert_one(e_dict)\n"
   ]
  },
  {
   "cell_type": "code",
   "execution_count": 44,
   "metadata": {},
   "outputs": [
    {
     "name": "stdout",
     "output_type": "stream",
     "text": [
      "2215454\n"
     ]
    }
   ],
   "source": [
    "with open('./libs/{0}'.format('projects-1.0.0-2017-06-15.csv')) as g:\n",
    "        reader = csv.reader(g, delimiter=',')    \n",
    "        i=0\n",
    "        for a in reader:\n",
    "            print(a)\n",
    "            break\n",
    "            i+=1\n",
    "        print(i)"
   ]
  },
  {
   "cell_type": "markdown",
   "metadata": {},
   "source": [
    "### DataSet size:\n",
    "\n",
    "projects: 2215454\n",
    "dependencies: 51239987"
   ]
  },
  {
   "cell_type": "code",
   "execution_count": 14,
   "metadata": {
    "collapsed": true
   },
   "outputs": [],
   "source": [
    "with open('./libs/{0}'.format('dependencies-1.0.0-2017-06-15.csv')) as g:\n",
    "        reader = csv.reader(g, delimiter=',')    \n",
    "        headers = next(reader)\n",
    "#         db.dependencies.drop()\n",
    "        thousand = 0\n",
    "        t_list = list()\n",
    "        for entry in reader:\n",
    "            e_dict = dict()\n",
    "            for i, field in enumerate(entry):\n",
    "                e_dict[headers[i]] = field\n",
    "            thousand += 1\n",
    "            t_list.append(e_dict)\n",
    "            if thousand % 1000 == 0:\n",
    "                thousand=0\n",
    "                \n",
    "                db.dependencies.insert_many(t_list)\n",
    "                t_list = list()\n",
    "        \n",
    "        db.dependencies.insert_many(t_list)\n",
    "\n"
   ]
  },
  {
   "cell_type": "code",
   "execution_count": 13,
   "metadata": {},
   "outputs": [
    {
     "name": "stdout",
     "output_type": "stream",
     "text": [
      "2215453\n"
     ]
    }
   ],
   "source": [
    "with open('./libs/{0}'.format('projects-1.0.0-2017-06-15.csv')) as g:\n",
    "        reader = csv.reader(g, delimiter=',')    \n",
    "        headers = next(reader)\n",
    "        db.projects.drop()\n",
    "        thousand = 0\n",
    "        t_list = list()\n",
    "        for entry in reader:\n",
    "            e_dict = dict()\n",
    "            for i, field in enumerate(entry):\n",
    "                e_dict[headers[i]] = field\n",
    "            thousand += 1\n",
    "            t_list.append(e_dict)\n",
    "            if thousand % 1000 == 0:\n",
    "                thousand=0\n",
    "                \n",
    "                db.projects.insert_many(t_list)\n",
    "                t_list = list()\n",
    "        \n",
    "        db.projects.insert_many(t_list)\n",
    "print(db.projects.count())"
   ]
  },
  {
   "cell_type": "markdown",
   "metadata": {},
   "source": [
    "### things to do next\n",
    "\n",
    "1. decide how to split the data to users and items\n",
    "2. do filtering of dependencies\n",
    "3. implement the simple MF\n",
    "4. implement the recall or AUC"
   ]
  },
  {
   "cell_type": "code",
   "execution_count": 20,
   "metadata": {},
   "outputs": [
    {
     "data": {
      "text/plain": [
       "{'Dependency Kind': 'runtime',\n",
       " 'Dependency Name': 'a4g:client',\n",
       " 'Dependency Platform': 'Dub',\n",
       " 'Dependency Project ID': '',\n",
       " 'Dependency Requirements': '*',\n",
       " 'ID': '8737',\n",
       " 'Optional Dependency': '',\n",
       " 'Platform': 'Dub',\n",
       " 'Project ID': '197',\n",
       " 'Project Name': 'a4g',\n",
       " 'Version ID': '2',\n",
       " 'Version Number': '0.1.0',\n",
       " '_id': ObjectId('594c1c845b2d8b5fa99273fa')}"
      ]
     },
     "execution_count": 20,
     "metadata": {},
     "output_type": "execute_result"
    }
   ],
   "source": [
    "db.dependencies.find_one()"
   ]
  },
  {
   "cell_type": "code",
   "execution_count": 17,
   "metadata": {
    "collapsed": true
   },
   "outputs": [],
   "source": [
    "def data_iter(cursor, batch_size=10000):\n",
    "    mylist = list()\n",
    "    it = 0\n",
    "    for item in cursor:\n",
    "        it +=1\n",
    "        mylist.append(item)\n",
    "        if it%batch_size==0:\n",
    "            yield mylist\n",
    "            it=0\n",
    "            mylist= list()\n",
    "\n",
    "cursor = db.dependencies.find()\n",
    "batch_size=10000\n",
    "cursor.batch_size(batch_size=batch_size)\n",
    "my_iter = data_iter(cursor, batch_size)"
   ]
  },
  {
   "cell_type": "code",
   "execution_count": 19,
   "metadata": {
    "collapsed": true
   },
   "outputs": [],
   "source": [
    "deps_proj = dict()\n",
    "proj_num = dict()"
   ]
  },
  {
   "cell_type": "code",
   "execution_count": 22,
   "metadata": {
    "collapsed": true
   },
   "outputs": [],
   "source": [
    "for entry in cursor:\n",
    "    deps_proj[entry['Project ID']] = deps_proj.get(entry['Project ID'],0) + 1\n",
    "    proj_num[entry['Dependency Project ID']] = proj_num.get(entry['Dependency Project ID'], 0) + 1"
   ]
  },
  {
   "cell_type": "markdown",
   "metadata": {},
   "source": [
    "The dimension of \n",
    "projects: 775580\n",
    "Referenced projects: 365434"
   ]
  },
  {
   "cell_type": "code",
   "execution_count": 25,
   "metadata": {
    "collapsed": true
   },
   "outputs": [],
   "source": [
    "import numpy as np\n",
    "import tensorflow as tf"
   ]
  },
  {
   "cell_type": "code",
   "execution_count": 30,
   "metadata": {},
   "outputs": [
    {
     "data": {
      "text/plain": [
       "140.21679975043372"
      ]
     },
     "execution_count": 30,
     "metadata": {},
     "output_type": "execute_result"
    }
   ],
   "source": [
    "np.average(list(proj_num.values()))"
   ]
  },
  {
   "cell_type": "code",
   "execution_count": 33,
   "metadata": {},
   "outputs": [
    {
     "data": {
      "text/plain": [
       "1212910"
      ]
     },
     "execution_count": 33,
     "metadata": {},
     "output_type": "execute_result"
    }
   ],
   "source": [
    "proj_num['']"
   ]
  },
  {
   "cell_type": "code",
   "execution_count": 41,
   "metadata": {},
   "outputs": [
    {
     "data": {
      "text/plain": [
       "51239986"
      ]
     },
     "execution_count": 41,
     "metadata": {},
     "output_type": "execute_result"
    }
   ],
   "source": [
    "db.dependencies.count()"
   ]
  },
  {
   "cell_type": "code",
   "execution_count": 42,
   "metadata": {
    "collapsed": true
   },
   "outputs": [],
   "source": [
    "import networkx\n"
   ]
  },
  {
   "cell_type": "code",
   "execution_count": null,
   "metadata": {
    "collapsed": true
   },
   "outputs": [],
   "source": []
  }
 ],
 "metadata": {
  "kernelspec": {
   "display_name": "Python 3",
   "language": "python",
   "name": "python3"
  },
  "language_info": {
   "codemirror_mode": {
    "name": "ipython",
    "version": 3
   },
   "file_extension": ".py",
   "mimetype": "text/x-python",
   "name": "python",
   "nbconvert_exporter": "python",
   "pygments_lexer": "ipython3",
   "version": "3.5.2"
  }
 },
 "nbformat": 4,
 "nbformat_minor": 2
}
